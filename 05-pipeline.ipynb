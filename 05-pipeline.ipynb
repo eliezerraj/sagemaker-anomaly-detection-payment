{
 "cells": [
  {
   "cell_type": "markdown",
   "id": "b65fc2d5-a57c-41ed-9744-f22b9b1b66e0",
   "metadata": {},
   "source": [
    "# Pipeline - Payment Anomaly (RFC)  v-03.05.24"
   ]
  },
  {
   "cell_type": "code",
   "execution_count": 1,
   "id": "c685d04d-c8b8-4600-91ec-cdb8a214f659",
   "metadata": {},
   "outputs": [],
   "source": [
    "#!pip install --upgrade boto3 fsspec s3fs"
   ]
  },
  {
   "cell_type": "markdown",
   "id": "149b078b-1472-477c-985d-ff6a38634ed8",
   "metadata": {},
   "source": [
    "# Pipeline Begin"
   ]
  },
  {
   "cell_type": "code",
   "execution_count": 2,
   "id": "a3021b23-f052-4675-8150-750f97db8156",
   "metadata": {},
   "outputs": [
    {
     "name": "stdout",
     "output_type": "stream",
     "text": [
      "sagemaker.config INFO - Not applying SDK defaults from location: /etc/xdg/sagemaker/config.yaml\n",
      "sagemaker.config INFO - Not applying SDK defaults from location: /home/sagemaker-user/.config/sagemaker/config.yaml\n",
      "sagemaker.config INFO - Not applying SDK defaults from location: /etc/xdg/sagemaker/config.yaml\n",
      "sagemaker.config INFO - Not applying SDK defaults from location: /home/sagemaker-user/.config/sagemaker/config.yaml\n",
      "sagemaker.config INFO - Not applying SDK defaults from location: /etc/xdg/sagemaker/config.yaml\n",
      "sagemaker.config INFO - Not applying SDK defaults from location: /home/sagemaker-user/.config/sagemaker/config.yaml\n",
      "sagemaker.config INFO - Not applying SDK defaults from location: /etc/xdg/sagemaker/config.yaml\n",
      "sagemaker.config INFO - Not applying SDK defaults from location: /home/sagemaker-user/.config/sagemaker/config.yaml\n"
     ]
    }
   ],
   "source": [
    "import boto3 \n",
    "import pandas as pd \n",
    "import sagemaker\n",
    "import os\n",
    "from sagemaker.workflow.pipeline_context import PipelineSession \n",
    "\n",
    "pipeline_name = \"sagemaker-mlops-payment-anomaly-pipeline\"\n",
    "sagemaker_session = sagemaker.Session()\n",
    "region = sagemaker_session.boto_region_name \n",
    "role = sagemaker.get_execution_role()\n",
    "pipeline_session = PipelineSession()\n",
    "model_package_group_name = f\"PaymentAnomalyModelPackageGroup\""
   ]
  },
  {
   "cell_type": "markdown",
   "id": "5fd8af3a-8ce8-4db9-818d-d253b867d931",
   "metadata": {},
   "source": [
    "# Load Data"
   ]
  },
  {
   "cell_type": "code",
   "execution_count": 3,
   "id": "81758b78-7d1b-4bde-a0a9-b962e8f2f223",
   "metadata": {},
   "outputs": [
    {
     "name": "stdout",
     "output_type": "stream",
     "text": [
      "---------------------------------\n",
      "bucket_name:  eliezerraj-908671954593-dataset\n",
      "prefix_name:  payment-rcf\n",
      "feat_prefix_name:  payment-rcf/feature/opt/ml/input/data/train\n",
      "tmp_prefix_name:  payment-rcf/tmp\n",
      "temp_location:  s3://eliezerraj-908671954593-dataset/payment-rcf/tmp\n",
      "train_data_location:  s3://eliezerraj-908671954593-dataset/payment-rcf/feature/opt/ml/input/data/train\n",
      "model_location:  s3://eliezerraj-908671954593-dataset/payment-rcf/output\n",
      "input_requirement:  s3://eliezerraj-908671954593-dataset/payment-rcf/requirements.txt\n"
     ]
    }
   ],
   "source": [
    "from sagemaker.workflow.parameters import(ParameterInteger,\n",
    "                                         ParameterString,\n",
    "                                         ParameterFloat)\n",
    "\n",
    "processing_instance_count = ParameterInteger(name=\"ProcessingInstanceCount\",\n",
    "                                             default_value=1)\n",
    "processing_instance_type = ParameterString(name=\"ProcessingInstanceType\",\n",
    "                                           default_value=\"ml.m4.xlarge\")\n",
    "training_instance_type = ParameterString(name=\"TrainingInstanceType\",\n",
    "                                         default_value=\"ml.m4.xlarge\")\n",
    "model_approval_status = ParameterString(name=\"ModelApprovalStatus\",\n",
    "                                        default_value=\"PendingManualApproval\")\n",
    "\n",
    "base_job_prefix = \"payment-anomaly-model\"\n",
    "\n",
    "bucket_name = 'eliezerraj-908671954593-dataset'\n",
    "prefix_name = 'payment-rcf'\n",
    "feat_prefix_name = 'payment-rcf/feature/opt/ml/input/data/train'\n",
    "tmp_prefix_name = 'payment-rcf/tmp'\n",
    "temp_location = 's3://{}/{}/tmp'.format(bucket_name, prefix_name)\n",
    "train_data_location = 's3://{}/{}/feature/opt/ml/input/data/train'.format(bucket_name, prefix_name)\n",
    "model_location = 's3://{}/{}/output'.format(bucket_name, prefix_name)\n",
    "input_requirement = 's3://{}/{}/{}'.format(bucket_name, prefix_name, 'requirements.txt')\n",
    "\n",
    "print(\"---------------------------------\")\n",
    "print(\"bucket_name: \", bucket_name)\n",
    "print(\"prefix_name: \", prefix_name)\n",
    "print(\"feat_prefix_name: \", feat_prefix_name)\n",
    "print(\"tmp_prefix_name: \", tmp_prefix_name)\n",
    "print(\"temp_location: \", temp_location)\n",
    "print(\"train_data_location: \", train_data_location)\n",
    "print(\"model_location: \", model_location)\n",
    "print(\"input_requirement: \", input_requirement)"
   ]
  },
  {
   "cell_type": "markdown",
   "id": "a28563bb-c6da-495a-90bc-faeb1cf6bee2",
   "metadata": {},
   "source": [
    "# Step 1 Feature Engineiring"
   ]
  },
  {
   "cell_type": "code",
   "execution_count": 4,
   "id": "df20faf6-dcd7-488a-9fa2-586ec513f464",
   "metadata": {},
   "outputs": [
    {
     "name": "stdout",
     "output_type": "stream",
     "text": [
      "sagemaker.config INFO - Not applying SDK defaults from location: /etc/xdg/sagemaker/config.yaml\n",
      "sagemaker.config INFO - Not applying SDK defaults from location: /home/sagemaker-user/.config/sagemaker/config.yaml\n",
      "sagemaker.config INFO - Not applying SDK defaults from location: /etc/xdg/sagemaker/config.yaml\n",
      "sagemaker.config INFO - Not applying SDK defaults from location: /home/sagemaker-user/.config/sagemaker/config.yaml\n"
     ]
    }
   ],
   "source": [
    "from sagemaker.feature_store.feature_store import FeatureStore\n",
    "from sagemaker.feature_store.feature_group import FeatureGroup\n",
    "from sagemaker.session import Session\n",
    "\n",
    "boto_session = boto3.Session()\n",
    "sagemaker_session = sagemaker.Session()\n",
    "\n",
    "data_location = 's3://{}/{}'.format(bucket_name, prefix_name)\n",
    "\n",
    "sagemaker_client = boto_session.client(service_name='sagemaker',\n",
    "                                       region_name=region)\n",
    "\n",
    "featurestore_runtime = boto_session.client(service_name='sagemaker-featurestore-runtime',\n",
    "                                           region_name=region)\n",
    "\n",
    "feature_store_session = Session(boto_session=boto_session,\n",
    "                                sagemaker_client=sagemaker_client,\n",
    "                                sagemaker_featurestore_runtime_client=featurestore_runtime)\n",
    "\n",
    "feature_store = FeatureStore(sagemaker_session=feature_store_session)\n",
    "\n",
    "payment_feature_group_name = 'payment-fraud-feature-group'\n",
    "\n",
    "payment_feature_group = FeatureGroup(name=payment_feature_group_name,\n",
    "                                     sagemaker_session=feature_store_session)\n"
   ]
  },
  {
   "cell_type": "markdown",
   "id": "49abe3a9-1f37-46e2-a760-d7a4c4f744a8",
   "metadata": {},
   "source": [
    "# Clean the S3"
   ]
  },
  {
   "cell_type": "code",
   "execution_count": 5,
   "id": "b6e28a33-1c3a-4918-8c73-2f1d6d1cc0a8",
   "metadata": {},
   "outputs": [
    {
     "name": "stdout",
     "output_type": "stream",
     "text": [
      "No files to clean : payment-rcf/feature/opt/ml/input/data/train\n",
      "No files to clean : payment-rcf/tmp\n"
     ]
    }
   ],
   "source": [
    "# Clean S3 feature\n",
    "\n",
    "s3_client = boto3.client('s3')\n",
    "\n",
    "response = s3_client.list_objects_v2(Bucket=bucket_name, \n",
    "                                     Prefix=feat_prefix_name)\n",
    "try:\n",
    "    files_in_folder = response[\"Contents\"]\n",
    "    files_to_delete = []\n",
    "\n",
    "    for f in files_in_folder:\n",
    "        files_to_delete.append({\"Key\": f[\"Key\"]})\n",
    "\n",
    "    # This will delete all files in a folder\n",
    "    response = s3_client.delete_objects(Bucket=bucket_name, Delete={\"Objects\": files_to_delete})\n",
    "except:\n",
    "  print(\"No files to clean :\", feat_prefix_name)\n",
    "\n",
    "response = s3_client.list_objects_v2(Bucket=bucket_name, \n",
    "                                     Prefix=tmp_prefix_name)\n",
    "\n",
    "try:\n",
    "    files_in_folder = response[\"Contents\"]\n",
    "    files_to_delete = []\n",
    "\n",
    "    for f in files_in_folder:\n",
    "        files_to_delete.append({\"Key\": f[\"Key\"]})\n",
    "\n",
    "    # This will delete all files in a folder\n",
    "    response = s3_client.delete_objects(Bucket=bucket_name, Delete={\"Objects\": files_to_delete})\n",
    "except:\n",
    "  print(\"No files to clean :\", tmp_prefix_name)"
   ]
  },
  {
   "cell_type": "markdown",
   "id": "9a680cb6-f7b1-4d9e-8dcf-96855ef47c8a",
   "metadata": {},
   "source": [
    "# Load dataset using feature Store query"
   ]
  },
  {
   "cell_type": "code",
   "execution_count": 6,
   "id": "0a0724de-4e97-45ee-ace2-bd54e7ee8ea1",
   "metadata": {},
   "outputs": [],
   "source": [
    "#result_df, query = feature_store.create_dataset(base=payment_feature_group,output_path=temp_location).to_dataframe()\n",
    "\n",
    "#df_payment = result_df.filter(['fraud',\n",
    "#                               'amount',\n",
    "#                               'tx_1d',\n",
    "#                               'avg_1d',\n",
    "#                               'tx_7d',\n",
    "#                               'avg_7d',\n",
    "#                               'tx_30d',\n",
    "#                               'avg_30d',\n",
    "#                               'time_btw_cc_tx'], axis=1)"
   ]
  },
  {
   "cell_type": "code",
   "execution_count": 7,
   "id": "f5b99fe1-d1f4-414b-9f7d-7ab4d8c016ea",
   "metadata": {},
   "outputs": [],
   "source": [
    "#df_payment"
   ]
  },
  {
   "cell_type": "markdown",
   "id": "dff278fa-c81d-450c-af7b-5288c3559cf6",
   "metadata": {},
   "source": [
    "# Load dataset using athena query"
   ]
  },
  {
   "cell_type": "code",
   "execution_count": 8,
   "id": "1e5bcead-d18e-44dd-8327-f2c2f6dfe9f3",
   "metadata": {},
   "outputs": [
    {
     "name": "stdout",
     "output_type": "stream",
     "text": [
      "------------------------------\n",
      "query_string:  SELECT amount, tx_1d, avg_1d, tx_7d, avg_7d, tx_30d, avg_30d, time_btw_cc_tx FROM payment_fraud_feature_group_1714865432\n",
      "------------------------------\n",
      "       amount  tx_1d   avg_1d  tx_7d   avg_7d  tx_30d  avg_30d  time_btw_cc_tx\n",
      "0       102.0      4   219.00      8   394.88      15   463.07              64\n",
      "1       372.0      2   531.00      5   955.20      29   484.14             212\n",
      "2       346.0      4   315.25      8   292.25      11   241.36               0\n",
      "3       470.0      2   574.00      3   416.67       7   291.57             286\n",
      "4       128.0      1   128.00      5   250.80      18   300.67               0\n",
      "...       ...    ...      ...    ...      ...     ...      ...             ...\n",
      "71396   149.0      2   198.00      4   212.25       9   242.22             197\n",
      "71397   818.0      2   520.00      2   520.00      11   202.09             399\n",
      "71398   644.0      2   707.50      5   408.00      10   350.70               0\n",
      "71399   516.0      3   507.33      6   679.67      15   649.27               0\n",
      "71400  1338.0      2  1303.50      2  1303.50       2  1303.50              67\n",
      "\n",
      "[71401 rows x 8 columns]\n"
     ]
    }
   ],
   "source": [
    "payment_query = payment_feature_group.athena_query()\n",
    "payment_table = payment_query.table_name\n",
    "\n",
    "query_string = 'SELECT amount, tx_1d, avg_1d, tx_7d, avg_7d, tx_30d, avg_30d, time_btw_cc_tx FROM ' + payment_table\n",
    "\n",
    "print(\"------------------------------\")\n",
    "print(\"query_string: \", query_string)\n",
    "\n",
    "payment_query.run(query_string=query_string,\n",
    "                  output_location=temp_location)\n",
    "\n",
    "payment_query.wait()\n",
    "print(\"------------------------------\")\n",
    "print(payment_query.as_dataframe())"
   ]
  },
  {
   "cell_type": "code",
   "execution_count": 9,
   "id": "e471c878-72ff-4d7a-b528-3c505fc515c6",
   "metadata": {},
   "outputs": [],
   "source": [
    "payment_query.as_dataframe().to_csv('{}/train.csv'.format(train_data_location), header=False, index=False)"
   ]
  },
  {
   "cell_type": "markdown",
   "id": "3000e8bb-afef-4d94-b1e8-f8f1bf567453",
   "metadata": {},
   "source": [
    "# Step 2 Build Model"
   ]
  },
  {
   "cell_type": "code",
   "execution_count": 10,
   "id": "1a81e1c5-ee43-4c74-bbcf-c0eb05e2d233",
   "metadata": {},
   "outputs": [
    {
     "name": "stderr",
     "output_type": "stream",
     "text": [
      "The input argument instance_type of function (sagemaker.image_uris.retrieve) is a pipeline variable (<class 'sagemaker.workflow.parameters.ParameterString'>), which is interpreted in pipeline execution time only. As the function needs to evaluate the argument value in SDK compile time, the default_value of this Parameter object will be used to override it. Please make sure the default_value is valid.\n",
      "Defaulting to the only supported framework/algorithm version: 1. Ignoring framework/algorithm version: latest.\n"
     ]
    },
    {
     "name": "stdout",
     "output_type": "stream",
     "text": [
      "sagemaker.config INFO - Not applying SDK defaults from location: /etc/xdg/sagemaker/config.yaml\n",
      "sagemaker.config INFO - Not applying SDK defaults from location: /home/sagemaker-user/.config/sagemaker/config.yaml\n",
      "step_training :  TrainingStep(name='Train-Payment-Anomaly-Model', display_name=None, description=None, step_type=<StepTypeEnum.TRAINING: 'Training'>, depends_on=None)\n"
     ]
    }
   ],
   "source": [
    "from sagemaker.workflow.steps import TrainingStep\n",
    "from sagemaker.inputs import TrainingInput\n",
    "from sagemaker import RandomCutForest\n",
    "\n",
    "image_uri = sagemaker.image_uris.retrieve(framework=\"randomcutforest\",\n",
    "                                          region=region,\n",
    "                                          version=\"latest\",\n",
    "                                          instance_type=training_instance_type)\n",
    "\n",
    "fixed_hyperparameters = {\n",
    "                        \"num_samples_per_tree\": 200,\n",
    "                        \"feature_dim\": 8,\n",
    "                        \"num_trees\": 50,\n",
    "                        }\n",
    "\n",
    "rcf = sagemaker.estimator.Estimator(image_uri=image_uri,\n",
    "                                    role=role,\n",
    "                                    output_path=model_location,\n",
    "                                    instance_count=processing_instance_count,\n",
    "                                    instance_type=processing_instance_type,\n",
    "                                    hyperparameters=fixed_hyperparameters)\n",
    "\n",
    "step_training = TrainingStep(\n",
    "    name=\"Train-Payment-Anomaly-Model\",\n",
    "    estimator=rcf,\n",
    "    inputs={\n",
    "        \"train\": TrainingInput(\n",
    "            s3_data=train_data_location,\n",
    "            content_type=\"text/csv;label_size=0\",\n",
    "            distribution='ShardedByS3Key',\n",
    "        )\n",
    "    },\n",
    ")\n",
    "\n",
    "print(\"step_training : \", step_training)"
   ]
  },
  {
   "cell_type": "markdown",
   "id": "577d1b44-d513-42cb-bc59-915153625c5f",
   "metadata": {},
   "source": [
    "# Step 3 Register Model"
   ]
  },
  {
   "cell_type": "code",
   "execution_count": 11,
   "id": "96803ca3-9778-401d-ae26-0f9fb8c79f28",
   "metadata": {},
   "outputs": [
    {
     "name": "stdout",
     "output_type": "stream",
     "text": [
      "step_register :  ModelStep(name='RegisterModel-Payment-Anomaly-Model', steps=[_RegisterModelStep(name='RegisterModel-Payment-Anomaly-Model-RegisterModel', display_name=None, description=None, step_type=<StepTypeEnum.REGISTER_MODEL: 'RegisterModel'>, depends_on=None)])\n"
     ]
    },
    {
     "name": "stderr",
     "output_type": "stream",
     "text": [
      "/opt/conda/lib/python3.10/site-packages/sagemaker/workflow/pipeline_context.py:297: UserWarning: Running within a PipelineSession, there will be No Wait, No Logs, and No Job being started.\n",
      "  warnings.warn(\n"
     ]
    }
   ],
   "source": [
    "from sagemaker import Model\n",
    "from sagemaker.workflow.model_step import ModelStep\n",
    "\n",
    "model = Model(\n",
    "    image_uri=image_uri,\n",
    "    model_data=step_training.properties.ModelArtifacts.S3ModelArtifacts, #step_training.get_top_model_s3_uri(top_k=0,s3_bucket=f\"{bucket_name}/{prefix_name}\",prefix=\"output\"),\n",
    "    sagemaker_session=pipeline_session,\n",
    "    role=role,\n",
    ")\n",
    "\n",
    "from time import gmtime, strftime\n",
    "\n",
    "model_name = \"rfc-payment-v1-\" + strftime(\"%Y-%m-%d-%H-%M-%S\", gmtime())\n",
    "\n",
    "register_args = model.register(\n",
    "                                content_types=[\"text/csv\"],\n",
    "                                response_types=[\"text/csv\"],\n",
    "                                inference_instances=[\"ml.t2.medium\", \"ml.m5.large\"],\n",
    "                                transform_instances=[\"ml.m4.xlarge\"],\n",
    "                                model_package_group_name=model_package_group_name,\n",
    "                                approval_status=model_approval_status,\n",
    ")\n",
    "\n",
    "step_register = ModelStep(\n",
    "    name=\"RegisterModel-Payment-Anomaly-Model\",\n",
    "    step_args=register_args\n",
    ")\n",
    "\n",
    "print(\"step_register : \", step_register)"
   ]
  },
  {
   "cell_type": "markdown",
   "id": "2ea768f1-e67d-4bb6-abb4-24c87e0ddc86",
   "metadata": {},
   "source": [
    "# Build and trigger the pipeline"
   ]
  },
  {
   "cell_type": "code",
   "execution_count": 12,
   "id": "f6a216d4-284c-4df5-bd95-5db9959a7934",
   "metadata": {},
   "outputs": [
    {
     "name": "stdout",
     "output_type": "stream",
     "text": [
      "sagemaker.config INFO - Not applying SDK defaults from location: /etc/xdg/sagemaker/config.yaml\n",
      "sagemaker.config INFO - Not applying SDK defaults from location: /home/sagemaker-user/.config/sagemaker/config.yaml\n"
     ]
    },
    {
     "name": "stderr",
     "output_type": "stream",
     "text": [
      "Popping out 'TrainingJobName' from the pipeline definition by default since it will be overridden at pipeline execution time. Please utilize the PipelineDefinitionConfig to persist this field in the pipeline definition if desired.\n",
      "Popping out 'CertifyForMarketplace' from the pipeline definition since it will be overridden in pipeline execution time.\n",
      "Popping out 'ModelPackageName' from the pipeline definition by default since it will be overridden at pipeline execution time. Please utilize the PipelineDefinitionConfig to persist this field in the pipeline definition if desired.\n"
     ]
    },
    {
     "name": "stdout",
     "output_type": "stream",
     "text": [
      "{'Version': '2020-12-01', 'Metadata': {}, 'Parameters': [{'Name': 'ProcessingInstanceCount', 'Type': 'Integer', 'DefaultValue': 1}, {'Name': 'ProcessingInstanceType', 'Type': 'String', 'DefaultValue': 'ml.m4.xlarge'}, {'Name': 'TrainingInstanceType', 'Type': 'String', 'DefaultValue': 'ml.m4.xlarge'}, {'Name': 'ModelApprovalStatus', 'Type': 'String', 'DefaultValue': 'PendingManualApproval'}], 'PipelineExperimentConfig': {'ExperimentName': {'Get': 'Execution.PipelineName'}, 'TrialName': {'Get': 'Execution.PipelineExecutionId'}}, 'Steps': [{'Name': 'Train-Payment-Anomaly-Model', 'Type': 'Training', 'Arguments': {'AlgorithmSpecification': {'TrainingInputMode': 'File', 'TrainingImage': '404615174143.dkr.ecr.us-east-2.amazonaws.com/randomcutforest:1'}, 'OutputDataConfig': {'S3OutputPath': 's3://eliezerraj-908671954593-dataset/payment-rcf/output'}, 'StoppingCondition': {'MaxRuntimeInSeconds': 86400}, 'ResourceConfig': {'VolumeSizeInGB': 30, 'InstanceCount': {'Get': 'Parameters.ProcessingInstanceCount'}, 'InstanceType': {'Get': 'Parameters.ProcessingInstanceType'}}, 'RoleArn': 'arn:aws:iam::908671954593:role/service-role/AmazonSageMaker-ExecutionRole-20240324T175412', 'InputDataConfig': [{'DataSource': {'S3DataSource': {'S3DataType': 'S3Prefix', 'S3Uri': 's3://eliezerraj-908671954593-dataset/payment-rcf/feature/opt/ml/input/data/train', 'S3DataDistributionType': 'ShardedByS3Key'}}, 'ContentType': 'text/csv;label_size=0', 'ChannelName': 'train'}], 'HyperParameters': {'num_samples_per_tree': '200', 'feature_dim': '8', 'num_trees': '50'}, 'DebugHookConfig': {'S3OutputPath': 's3://eliezerraj-908671954593-dataset/payment-rcf/output', 'CollectionConfigurations': []}, 'ProfilerConfig': {'S3OutputPath': 's3://eliezerraj-908671954593-dataset/payment-rcf/output', 'DisableProfiler': False}}}, {'Name': 'RegisterModel-Payment-Anomaly-Model-RegisterModel', 'Type': 'RegisterModel', 'Arguments': {'ModelPackageGroupName': 'PaymentAnomalyModelPackageGroup', 'InferenceSpecification': {'Containers': [{'Image': '404615174143.dkr.ecr.us-east-2.amazonaws.com/randomcutforest:1', 'Environment': {}, 'ModelDataUrl': {'Get': 'Steps.Train-Payment-Anomaly-Model.ModelArtifacts.S3ModelArtifacts'}}], 'SupportedContentTypes': ['text/csv'], 'SupportedResponseMIMETypes': ['text/csv'], 'SupportedRealtimeInferenceInstanceTypes': ['ml.t2.medium', 'ml.m5.large'], 'SupportedTransformInstanceTypes': ['ml.m4.xlarge']}, 'ModelApprovalStatus': {'Get': 'Parameters.ModelApprovalStatus'}, 'SkipModelValidation': 'None'}}]}\n"
     ]
    }
   ],
   "source": [
    "import json\n",
    "from sagemaker.workflow.pipeline import Pipeline\n",
    "\n",
    "pipeline = Pipeline(\n",
    "    name=pipeline_name,\n",
    "    parameters=[\n",
    "        processing_instance_count,\n",
    "        processing_instance_type,\n",
    "        training_instance_type,\n",
    "        model_approval_status,\n",
    "    ],\n",
    "    steps=[step_training,\n",
    "           step_register],\n",
    ")\n",
    "\n",
    "definition = json.loads(pipeline.definition())\n",
    "\n",
    "print(definition)"
   ]
  },
  {
   "cell_type": "code",
   "execution_count": 13,
   "id": "395e4d3d-0f2a-4740-a8e7-50b1ffdb5e74",
   "metadata": {},
   "outputs": [
    {
     "name": "stderr",
     "output_type": "stream",
     "text": [
      "Popping out 'TrainingJobName' from the pipeline definition by default since it will be overridden at pipeline execution time. Please utilize the PipelineDefinitionConfig to persist this field in the pipeline definition if desired.\n",
      "Popping out 'ModelPackageName' from the pipeline definition by default since it will be overridden at pipeline execution time. Please utilize the PipelineDefinitionConfig to persist this field in the pipeline definition if desired.\n",
      "Popping out 'TrainingJobName' from the pipeline definition by default since it will be overridden at pipeline execution time. Please utilize the PipelineDefinitionConfig to persist this field in the pipeline definition if desired.\n",
      "Popping out 'ModelPackageName' from the pipeline definition by default since it will be overridden at pipeline execution time. Please utilize the PipelineDefinitionConfig to persist this field in the pipeline definition if desired.\n"
     ]
    },
    {
     "data": {
      "text/plain": [
       "_PipelineExecution(arn='arn:aws:sagemaker:us-east-2:908671954593:pipeline/sagemaker-mlops-payment-anomaly-pipeline/execution/mwsbiuoztm3i', sagemaker_session=<sagemaker.session.Session object at 0x7f58c3b76560>)"
      ]
     },
     "execution_count": 13,
     "metadata": {},
     "output_type": "execute_result"
    }
   ],
   "source": [
    "# Create a new or update existing Pipeline\n",
    "pipeline.upsert(role_arn=role)\n",
    "# start Pipeline execution\n",
    "pipeline.start()"
   ]
  },
  {
   "cell_type": "code",
   "execution_count": null,
   "id": "08786ec3-c432-4012-a6e2-5a222864e1b7",
   "metadata": {},
   "outputs": [],
   "source": []
  }
 ],
 "metadata": {
  "kernelspec": {
   "display_name": "Python 3 (ipykernel)",
   "language": "python",
   "name": "python3"
  },
  "language_info": {
   "codemirror_mode": {
    "name": "ipython",
    "version": 3
   },
   "file_extension": ".py",
   "mimetype": "text/x-python",
   "name": "python",
   "nbconvert_exporter": "python",
   "pygments_lexer": "ipython3",
   "version": "3.10.13"
  }
 },
 "nbformat": 4,
 "nbformat_minor": 5
}
