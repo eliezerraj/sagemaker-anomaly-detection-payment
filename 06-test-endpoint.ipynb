{
 "cells": [
  {
   "cell_type": "code",
   "execution_count": 2,
   "id": "268a8524-e4d1-495a-adc3-685b1f4feb21",
   "metadata": {},
   "outputs": [],
   "source": [
    "import boto3\n",
    "from sagemaker import Session\n",
    "from sagemaker import get_execution_role\n",
    "\n",
    "client = boto3.client(service_name=\"sagemaker\")\n",
    "runtime = boto3.client(service_name=\"sagemaker-runtime\")"
   ]
  },
  {
   "cell_type": "code",
   "execution_count": 7,
   "id": "aecb18a4-7832-4cc1-9c15-0ad9b5ab82a0",
   "metadata": {},
   "outputs": [
    {
     "name": "stdout",
     "output_type": "stream",
     "text": [
      "{\"scores\":[{\"score\":0.7418589464}]}\n"
     ]
    }
   ],
   "source": [
    "import numpy as np\n",
    "# Endpoint invocation\n",
    "endpoint_name=\"rcf-serverless-ep-payment-anomaly-model-v1-2024-05-06-13-40-27\"\n",
    "payload = b\"695.0, 1.0, 695.0, 3.0, 419.33, 9.0, 572.89, 383.0\"\n",
    "\n",
    "response = runtime.invoke_endpoint(\n",
    "    EndpointName=endpoint_name,\n",
    "    Body=payload,\n",
    "    ContentType=\"text/csv\",\n",
    ")\n",
    "\n",
    "y_predict = response[\"Body\"].read().decode()\n",
    "print(y_predict)"
   ]
  },
  {
   "cell_type": "code",
   "execution_count": null,
   "id": "65579be9-c8c1-4795-9b22-933aa36aac26",
   "metadata": {},
   "outputs": [],
   "source": []
  }
 ],
 "metadata": {
  "kernelspec": {
   "display_name": "Python 3 (ipykernel)",
   "language": "python",
   "name": "python3"
  },
  "language_info": {
   "codemirror_mode": {
    "name": "ipython",
    "version": 3
   },
   "file_extension": ".py",
   "mimetype": "text/x-python",
   "name": "python",
   "nbconvert_exporter": "python",
   "pygments_lexer": "ipython3",
   "version": "3.10.13"
  }
 },
 "nbformat": 4,
 "nbformat_minor": 5
}
